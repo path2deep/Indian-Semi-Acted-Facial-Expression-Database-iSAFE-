{
 "cells": [
  {
   "cell_type": "code",
   "execution_count": 34,
   "metadata": {},
   "outputs": [],
   "source": [
    "import os\n",
    "import shutil\n",
    "import re"
   ]
  },
  {
   "cell_type": "code",
   "execution_count": 35,
   "metadata": {},
   "outputs": [],
   "source": [
    "path = \"G:\\\\db\\\\db\\\\\" # path to the folder which contains all session folders\n",
    "\n"
   ]
  },
  {
   "cell_type": "code",
   "execution_count": 36,
   "metadata": {},
   "outputs": [
    {
     "name": "stdout",
     "output_type": "stream",
     "text": [
      "1\n",
      "1\n",
      "63\n",
      "2\n",
      "2\n",
      "35\n",
      "3\n",
      "3\n",
      "123\n",
      "4\n",
      "4\n",
      "48\n",
      "5\n",
      "5\n",
      "107\n",
      "6\n",
      "6\n",
      "121\n",
      "7\n",
      "7\n",
      "76\n",
      "8\n",
      "8\n",
      "94\n",
      "9\n",
      "9\n",
      "30\n",
      "1\n",
      "1\n",
      "115\n",
      "2\n",
      "2\n",
      "57\n",
      "3\n",
      "3\n",
      "120\n",
      "4\n",
      "4\n",
      "47\n",
      "5\n",
      "5\n",
      "76\n",
      "6\n",
      "6\n",
      "59\n",
      "7\n",
      "7\n",
      "244\n",
      "8\n",
      "8\n",
      "69\n"
     ]
    }
   ],
   "source": [
    "for file in os.listdir(path):\n",
    "    for files in os.listdir(path+file):\n",
    "        \n",
    "        pattern = re.compile(\"[0-9][0-9]*$\")\n",
    "        if(pattern.match(files)):\n",
    "            print(files) # for checking\n",
    "            count = 0\n",
    "            print(files) # for checking\n",
    "            for file1 in os.listdir(path+file+\"\\\\\"+files):\n",
    "                count = count+1\n",
    "            print(count) # for checking\n",
    "            i = int(0.88*count) # for capturing last 10% of the frames \n",
    "            f = int(0.98*count)\n",
    "            count1 = 0\n",
    "            for j in range(i,f):\n",
    "                count1 = count1+1\n",
    "                string1=\"frame_\"+str(j)+\".jpg\"\n",
    "                src = path+file+\"\\\\\"+files+\"\\\\\"+string1\n",
    "                if not os.path.exists(path+\"Images1\"):\n",
    "                    os.makedirs(path+\"Images1\")\n",
    "                dest = path+\"Images1\\\\\"+file+\".\"+files+\".\"+str(count1)+\".jpg\"\n",
    "                shutil.copyfile(src,dest)\n",
    "                    \n",
    "                    \n",
    "                \n",
    "                \n",
    "\n"
   ]
  },
  {
   "cell_type": "code",
   "execution_count": null,
   "metadata": {},
   "outputs": [],
   "source": []
  },
  {
   "cell_type": "code",
   "execution_count": null,
   "metadata": {},
   "outputs": [],
   "source": []
  }
 ],
 "metadata": {
  "kernelspec": {
   "display_name": "Python 3",
   "language": "python",
   "name": "python3"
  },
  "language_info": {
   "codemirror_mode": {
    "name": "ipython",
    "version": 3
   },
   "file_extension": ".py",
   "mimetype": "text/x-python",
   "name": "python",
   "nbconvert_exporter": "python",
   "pygments_lexer": "ipython3",
   "version": "3.6.6"
  }
 },
 "nbformat": 4,
 "nbformat_minor": 2
}
