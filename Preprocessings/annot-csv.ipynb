{
 "cells": [
  {
   "cell_type": "code",
   "execution_count": 31,
   "metadata": {},
   "outputs": [],
   "source": [
    "#This code makes final csv from the annotation collected from individual annotators\n",
    "\n",
    "import os"
   ]
  },
  {
   "cell_type": "code",
   "execution_count": 32,
   "metadata": {},
   "outputs": [],
   "source": [
    "path = \"G:\\\\Database\\\\Core database\\\\\"\n",
    "excelpath = \"\"\n",
    "foldername = \"annotation\""
   ]
  },
  {
   "cell_type": "code",
   "execution_count": 35,
   "metadata": {},
   "outputs": [],
   "source": [
    "f1 = open(\"annotation.csv\",\"w\")\n"
   ]
  },
  {
   "cell_type": "code",
   "execution_count": 36,
   "metadata": {},
   "outputs": [],
   "source": [
    "for file in os.listdir(path):\n",
    "    for files in os.listdir(path+file+\"\\\\\"+foldername):\n",
    "#         print(file)\n",
    "\n",
    "\n",
    "        f = open(path+file+\"\\\\\"+foldername+\"\\\\\"+files,'r')\n",
    "        data = f.readline()\n",
    "        string = file+\"/\"+files.split(\".\")[0]\n",
    "        f1.write(string+\",\"+data+\"\\n\")\n",
    "#         print(string)\n",
    "f1.close()\n",
    "    "
   ]
  },
  {
   "cell_type": "code",
   "execution_count": null,
   "metadata": {},
   "outputs": [],
   "source": []
  }
 ],
 "metadata": {
  "kernelspec": {
   "display_name": "Python 3",
   "language": "python",
   "name": "python3"
  },
  "language_info": {
   "codemirror_mode": {
    "name": "ipython",
    "version": 3
   },
   "file_extension": ".py",
   "mimetype": "text/x-python",
   "name": "python",
   "nbconvert_exporter": "python",
   "pygments_lexer": "ipython3",
   "version": "3.7.1"
  }
 },
 "nbformat": 4,
 "nbformat_minor": 2
}
